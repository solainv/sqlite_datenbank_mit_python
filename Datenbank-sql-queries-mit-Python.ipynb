{
 "cells": [
  {
   "cell_type": "markdown",
   "metadata": {},
   "source": [
    "# Erstellen und Zugriff auf SQLite-Datenbank mit Python\n",
    "\n",
    "## Zielen:\n",
    "\n",
    "* Eine Dateank zu erstellen\n",
    "* Eine Telle zu erstellen\n",
    "* Daten in die Table einzufügen\n",
    "* Daten aus der Telle abzufragen\n",
    "* Das Ergebnis in ein Pandas-Datframe abzurufen\n",
    "* Die Verbindung zuratenbank z"
   ]
  },
  {
   "cell_type": "markdown",
   "metadata": {},
   "source": [
    "SQLite ist eine Softwarebibliothek, die eine eigenständige, serverlose, konfigurationsfreie, transaktionale SQL-Datenbank-Engine implementiert. SQLite ist die am weitesten verbreitete SQL-Datenbank-Engine der Welt.\r\n",
    "\r\n",
    "## Aufgabe 1: Erstellen einer Datenbank mit SQLite"
   ]
  },
  {
   "cell_type": "code",
   "execution_count": 1,
   "metadata": {},
   "outputs": [],
   "source": [
    "import sqlite3"
   ]
  },
  {
   "cell_type": "code",
   "execution_count": 2,
   "metadata": {
    "tags": []
   },
   "outputs": [],
   "source": [
    "# Verbindung und Erstellung von sqlite Datenbank\n",
    "# connection object\n",
    "conn = sqlite3.connect('products.db')"
   ]
  },
  {
   "cell_type": "markdown",
   "metadata": {},
   "source": [
    "Nun kriegen wir in unserem Verzeichnis eine Datei namens `products.db`"
   ]
  },
  {
   "cell_type": "markdown",
   "metadata": {},
   "source": [
    "<img src='sqlite_db.png'>"
   ]
  },
  {
   "cell_type": "markdown",
   "metadata": {},
   "source": [
    "Du kannst ein Cursor-Objekt erstellen, indem du die Methode `cursor()` des Verbindungsobjekts/-klassen aufrufst. Die Cursor-Klasse ist eine Instanz, die es ermöglicht, Methoden aufzurufen, die SQLite-Abfragen ausführen und Daten aus den Ergebnismengen der Abfragen abrufen."
   ]
  },
  {
   "cell_type": "code",
   "execution_count": 3,
   "metadata": {
    "scrolled": true,
    "tags": []
   },
   "outputs": [],
   "source": [
    "# cursor object\n",
    "cursor_obj = conn.cursor()"
   ]
  },
  {
   "cell_type": "markdown",
   "metadata": {},
   "source": [
    "## Aufgabe 2: Erstellung einer Tabelle in der Datenbank\n"
   ]
  },
  {
   "cell_type": "code",
   "execution_count": 4,
   "metadata": {
    "tags": []
   },
   "outputs": [
    {
     "name": "stdout",
     "output_type": "stream",
     "text": [
      "Tabelle ist bereit\n"
     ]
    }
   ],
   "source": [
    "# Tabelle erstellen\n",
    "table = \"\"\"CREATE TABLE IF NOT EXISTS fahrrad (\n",
    "                ID INTEGER PRIMARY KEY NOT NULL,\n",
    "                Gewicht_kg INTEGER,\n",
    "                Radgröße_Zoll INTEGER,\n",
    "                Gänge INTEGER,\n",
    "                Materialien VARCHAR(200),\n",
    "                Fahrradtypen VARCHAR(30),\n",
    "                Reifendruck_psi_bar VARCHAR(10),\n",
    "                Price_EUR INTEGER\n",
    "            );\"\"\"\n",
    "cursor_obj.execute(table)\n",
    "\n",
    "print(\"Tabelle ist bereit\")"
   ]
  },
  {
   "cell_type": "markdown",
   "metadata": {},
   "source": [
    "### Tabellenliste der Datenbank products.db anzeigen"
   ]
  },
  {
   "cell_type": "markdown",
   "metadata": {},
   "source": [
    "Dafür brauchen wir die  Systemtabelle `sqlite_master`-Tabelle abzufragen, die Infos über das Schema der Datenbank speichert"
   ]
  },
  {
   "cell_type": "code",
   "execution_count": 5,
   "metadata": {},
   "outputs": [],
   "source": [
    "def show_all_tables():\n",
    "    select_query = '''select name from sqlite_master  where type = 'table' '''\n",
    "    cursor_obj.execute(select_query)\n",
    "    tables = cursor_obj.fetchall()\n",
    "    return tables"
   ]
  },
  {
   "cell_type": "code",
   "execution_count": 6,
   "metadata": {},
   "outputs": [
    {
     "data": {
      "text/plain": [
       "[('fahrrad',)]"
      ]
     },
     "execution_count": 6,
     "metadata": {},
     "output_type": "execute_result"
    }
   ],
   "source": [
    "show_all_tables()"
   ]
  },
  {
   "cell_type": "code",
   "execution_count": 7,
   "metadata": {},
   "outputs": [
    {
     "data": {
      "text/html": [
       "<div>\n",
       "<style scoped>\n",
       "    .dataframe tbody tr th:only-of-type {\n",
       "        vertical-align: middle;\n",
       "    }\n",
       "\n",
       "    .dataframe tbody tr th {\n",
       "        vertical-align: top;\n",
       "    }\n",
       "\n",
       "    .dataframe thead th {\n",
       "        text-align: right;\n",
       "    }\n",
       "</style>\n",
       "<table border=\"1\" class=\"dataframe\">\n",
       "  <thead>\n",
       "    <tr style=\"text-align: right;\">\n",
       "      <th></th>\n",
       "      <th>Spaltenname</th>\n",
       "      <th>Datentyp</th>\n",
       "      <th>Zulässt NULL</th>\n",
       "      <th>Standardwert</th>\n",
       "      <th>Primärschlüssel</th>\n",
       "      <th>Autoincrement</th>\n",
       "    </tr>\n",
       "    <tr>\n",
       "      <th>Spalten_ID</th>\n",
       "      <th></th>\n",
       "      <th></th>\n",
       "      <th></th>\n",
       "      <th></th>\n",
       "      <th></th>\n",
       "      <th></th>\n",
       "    </tr>\n",
       "  </thead>\n",
       "  <tbody>\n",
       "    <tr>\n",
       "      <th>0</th>\n",
       "      <td>ID</td>\n",
       "      <td>INTEGER</td>\n",
       "      <td>1</td>\n",
       "      <td>None</td>\n",
       "      <td>1</td>\n",
       "      <td>NO</td>\n",
       "    </tr>\n",
       "    <tr>\n",
       "      <th>1</th>\n",
       "      <td>Gewicht_kg</td>\n",
       "      <td>INTEGER</td>\n",
       "      <td>0</td>\n",
       "      <td>None</td>\n",
       "      <td>0</td>\n",
       "      <td>NO</td>\n",
       "    </tr>\n",
       "    <tr>\n",
       "      <th>2</th>\n",
       "      <td>Radgröße_Zoll</td>\n",
       "      <td>INTEGER</td>\n",
       "      <td>0</td>\n",
       "      <td>None</td>\n",
       "      <td>0</td>\n",
       "      <td>NO</td>\n",
       "    </tr>\n",
       "    <tr>\n",
       "      <th>3</th>\n",
       "      <td>Gänge</td>\n",
       "      <td>INTEGER</td>\n",
       "      <td>0</td>\n",
       "      <td>None</td>\n",
       "      <td>0</td>\n",
       "      <td>NO</td>\n",
       "    </tr>\n",
       "    <tr>\n",
       "      <th>4</th>\n",
       "      <td>Materialien</td>\n",
       "      <td>VARCHAR(200)</td>\n",
       "      <td>0</td>\n",
       "      <td>None</td>\n",
       "      <td>0</td>\n",
       "      <td>NO</td>\n",
       "    </tr>\n",
       "    <tr>\n",
       "      <th>5</th>\n",
       "      <td>Fahrradtypen</td>\n",
       "      <td>VARCHAR(30)</td>\n",
       "      <td>0</td>\n",
       "      <td>None</td>\n",
       "      <td>0</td>\n",
       "      <td>NO</td>\n",
       "    </tr>\n",
       "    <tr>\n",
       "      <th>6</th>\n",
       "      <td>Reifendruck_psi_bar</td>\n",
       "      <td>VARCHAR(10)</td>\n",
       "      <td>0</td>\n",
       "      <td>None</td>\n",
       "      <td>0</td>\n",
       "      <td>NO</td>\n",
       "    </tr>\n",
       "    <tr>\n",
       "      <th>7</th>\n",
       "      <td>Price_EUR</td>\n",
       "      <td>INTEGER</td>\n",
       "      <td>0</td>\n",
       "      <td>None</td>\n",
       "      <td>0</td>\n",
       "      <td>NO</td>\n",
       "    </tr>\n",
       "  </tbody>\n",
       "</table>\n",
       "</div>"
      ],
      "text/plain": [
       "                    Spaltenname      Datentyp  Zulässt NULL Standardwert  \\\n",
       "Spalten_ID                                                                 \n",
       "0                            ID       INTEGER             1         None   \n",
       "1                    Gewicht_kg       INTEGER             0         None   \n",
       "2                 Radgröße_Zoll       INTEGER             0         None   \n",
       "3                         Gänge       INTEGER             0         None   \n",
       "4                   Materialien  VARCHAR(200)             0         None   \n",
       "5                  Fahrradtypen   VARCHAR(30)             0         None   \n",
       "6           Reifendruck_psi_bar   VARCHAR(10)             0         None   \n",
       "7                     Price_EUR       INTEGER             0         None   \n",
       "\n",
       "            Primärschlüssel Autoincrement  \n",
       "Spalten_ID                                 \n",
       "0                         1            NO  \n",
       "1                         0            NO  \n",
       "2                         0            NO  \n",
       "3                         0            NO  \n",
       "4                         0            NO  \n",
       "5                         0            NO  \n",
       "6                         0            NO  \n",
       "7                         0            NO  "
      ]
     },
     "execution_count": 7,
     "metadata": {},
     "output_type": "execute_result"
    }
   ],
   "source": [
    "# Infos über Tabelle anzeigen\n",
    "def get_table_columns_info_df(table_name):\n",
    "    def get_table_columns_info(table_name):\n",
    "        query = \"PRAGMA table_info({})\".format(table_name)\n",
    "        cursor_obj.execute(query)\n",
    "        columns_info = cursor_obj.fetchall()\n",
    "\n",
    "        columns_info_with_autoincrement = []\n",
    "        for column_info in columns_info:\n",
    "            cid, name, data_type, not_null, default_value, primary_key = column_info\n",
    "            autoincrement = 'YES' if default_value and 'AUTOINCREMENT' in default_value else 'NO'\n",
    "            columns_info_with_autoincrement.append((cid, name, data_type, not_null, default_value, primary_key, autoincrement))\n",
    "\n",
    "        return columns_info_with_autoincrement\n",
    "    # columns_info_with_autoincrement zu Dataframe umwandeln    \n",
    "    import pandas as pd    \n",
    "    columns_info = get_table_columns_info(table_name)\n",
    "    column_names = [\"Spalten_ID\",\"Spaltenname\", \"Datentyp\", \"Zulässt NULL\", \"Standardwert\", \"Primärschlüssel\", \"Autoincrement\"]\n",
    "    df = pd.DataFrame(columns_info, columns=column_names)\n",
    "    df.set_index('Spalten_ID', inplace=True)\n",
    "    return df\n",
    "\n",
    "# Infos über Tabelle \"fahrrad\" als DataFrame\n",
    "get_table_columns_info_df('fahrrad')"
   ]
  },
  {
   "cell_type": "markdown",
   "metadata": {},
   "source": [
    "## Aufgabe 3: Daten in die Tabelle einfügen\n"
   ]
  },
  {
   "cell_type": "code",
   "execution_count": 8,
   "metadata": {},
   "outputs": [],
   "source": [
    "# Die Daten sollten als tuples eingegeben"
   ]
  },
  {
   "cell_type": "markdown",
   "metadata": {},
   "source": [
    "### Manuel"
   ]
  },
  {
   "cell_type": "code",
   "execution_count": 9,
   "metadata": {
    "tags": []
   },
   "outputs": [],
   "source": [
    "# fügen wir die erste Reihe manuel ein\n",
    "insert_query = '''insert into fahrrad values (21, 8, 29, \"21-Gang\", \"Rahmen: Aluminium, Komponenten: Aluminiumlegierung\", \"Mountainbike\", \"30-50 psi (2-3,5 bar)\", 1200)'''\n",
    "cursor_obj.execute(insert_query)\n",
    "\n",
    "#Änderungen bestätigen\n",
    "conn.commit()"
   ]
  },
  {
   "cell_type": "markdown",
   "metadata": {},
   "source": [
    "### Automatisch"
   ]
  },
  {
   "cell_type": "code",
   "execution_count": 10,
   "metadata": {},
   "outputs": [],
   "source": [
    "# Die obere methode ist der Basic aber sie ist weniger praktisch dafür fügen wir die Daten auf einmal anhand einer Schleife und eine Funktion"
   ]
  },
  {
   "cell_type": "markdown",
   "metadata": {},
   "source": [
    "Das sind Die Daten die wir einfügen werden:"
   ]
  },
  {
   "cell_type": "code",
   "execution_count": 11,
   "metadata": {},
   "outputs": [],
   "source": [
    "data_to_insert = [\n",
    "    (2, 12.5, 27.5, \"7-Gang\", \"Rahmen: Stahl, Komponenten: Stahl\", \"Citybike\", \"50-70 psi (3,5-4,8 bar)\", 800),\n",
    "    (3, 9.8, 26, \"Einzelgang\", \"Rahmen: Carbonfaser, Komponenten: Kohlefaser\", \"Rennrad\", \"80-120 psi (5,5-8,3 bar)\", 1500),\n",
    "    (4, 16, 26, \"3-Gang\", \"Rahmen: Aluminium, Komponenten: Stahl\", \"Trekkingrad\", \"60-80 psi (4,1-5,5 bar)\", 1000),\n",
    "    (5, 12.7, 28, \"18-Gang\", \"Rahmen: Aluminium, Komponenten: Titan\", \"Rennrad\", \"90-120 psi (6,2-8,3 bar)\", 2000),\n",
    "    (6, 10.3, 27.5, \"10-Gang\", \"Rahmen: Aluminium, Komponenten: Kohlefaser\", \"Mountainbike\", \"35-55 psi (2,4-3,8 bar)\", 1200),\n",
    "    (7, 14.8, 26, \"5-Gang\", \"Rahmen: Stahl, Komponenten: Aluminiumlegierung\", \"Citybike\", \"50-70 psi (3,5-4,8 bar)\", 800),\n",
    "    (8, 9.1, 29, \"Einzelgang\", \"Rahmen: Carbonfaser, Komponenten: Carbonfaser\", \"Rennrad\", \"80-120 psi (5,5-8,3 bar)\", 1500),\n",
    "    (9, 13.5, 26, \"7-Gang\", \"Rahmen: Aluminium, Komponenten: Stahl\", \"Trekkingrad\", \"60-80 psi (4,1-5,5 bar)\", 1000),\n",
    "    (10, 12.7, 28, \"18-Gang\", \"Rahmen: Aluminium, Komponenten: Titan\", \"Rennrad\", \"90-120 psi (6,2-8,3 bar)\", 2000),\n",
    "    (11, 9.6, 29, \"21-Gang\", \"Rahmen: Titan, Komponenten: Aluminiumlegierung\", \"E-Bike\", \"35-50 psi (2,4-3,5 bar)\", 2500),\n",
    "    (12, 15.2, 27.5, \"7-Gang\", \"Rahmen: Stahl, Komponenten: Stahl\", \"Citybike\", \"45-65 psi (3,1-4,5 bar)\", 700),\n",
    "    (13, 10.9, 26, \"3-Gang\", \"Rahmen: Aluminium, Komponenten: Aluminiumlegierung\", \"Trekkingrad\", \"60-80 psi (4,1-5,5 bar)\", 900),\n",
    "    (14, 11.8, 28, \"Einzelgang\", \"Rahmen: Carbonfaser, Komponenten: Carbonfaser\", \"Rennrad\", \"90-120 psi (6,2-8,3 bar)\", 1800),\n",
    "    (15, 13.4, 29, \"21-Gang\", \"Rahmen: Aluminium, Komponenten: Titan\", \"E-Bike\", \"35-50 psi (2,4-3,5 bar)\", 2800),\n",
    "    (16, 12.1, 27.5, \"10-Gang\", \"Rahmen: Titan, Komponenten: Kohlefaser\", \"Mountainbike\", \"35-55 psi (2,4-3,8 bar)\", 1300),\n",
    "    (17, 14.6, 26, \"7-Gang\", \"Rahmen: Stahl, Komponenten: Stahl\", \"Citybike\", \"50-70 psi (3,5-4,8 bar)\", 750),\n",
    "    (18, 10.2, 29, \"Einzelgang\", \"Rahmen: Aluminium, Komponenten: Carbonfaser\", \"Rennrad\", \"80-120 psi (5,5-8,3 bar)\", 1600),\n",
    "    (19, 13.8, 26, \"5-Gang\", \"Rahmen: Stahl, Komponenten: Aluminiumlegierung\", \"Trekkingrad\", \"60-80 psi (4,1-5,5 bar)\", 1100),\n",
    "    (20, 11.5, 28, \"18-Gang\", \"Rahmen: Aluminium, Komponenten: Titan\", \"Rennrad\", \"90-120 psi (6,2-8,3 bar)\", 2200)\n",
    "]"
   ]
  },
  {
   "cell_type": "code",
   "execution_count": 12,
   "metadata": {},
   "outputs": [],
   "source": [
    "# Funkrion um Daten einzufügen hier habe ich try except Ausnahmen benutzt das ist nicht notwendig aber hilfreich um Fehler leicht zu erkennen "
   ]
  },
  {
   "cell_type": "code",
   "execution_count": 13,
   "metadata": {
    "tags": []
   },
   "outputs": [],
   "source": [
    "def insert_data(id, weight, wheel_size, gears, materials, bike_types, tire_pressure_psi_bar, price):\n",
    "    try:\n",
    "        cursor_obj.execute('''INSERT INTO fahrrad (ID, Gewicht_kg, Radgröße_Zoll, Gänge, Materialien, Fahrradtypen, Reifendruck_psi_bar, Price_EUR)\n",
    "                              VALUES (?, ?, ?, ?, ?, ?, ?, ?)''', \n",
    "                           (id, weight, wheel_size, gears, materials, bike_types, tire_pressure_psi_bar, price))\n",
    "        # Änderungen bestätigen\n",
    "        conn.commit()\n",
    "        print(\"Daten erfolgreich eingefügt:\", id, weight, wheel_size, gears, materials , bike_types, tire_pressure_psi_bar, price)\n",
    "    except sqlite3.IntegrityError:\n",
    "        print(f\"Fehler:ID={id} Eintrag mit dieser ID existiert bereits.\")\n",
    "    except Exception as e:\n",
    "        print(\"Allgemeiner Fehler:\", e)"
   ]
  },
  {
   "cell_type": "code",
   "execution_count": 14,
   "metadata": {},
   "outputs": [
    {
     "name": "stdout",
     "output_type": "stream",
     "text": [
      "Daten erfolgreich eingefügt: 2 12.5 27.5 7-Gang Rahmen: Stahl, Komponenten: Stahl Citybike 50-70 psi (3,5-4,8 bar) 800\n",
      "Daten erfolgreich eingefügt: 3 9.8 26 Einzelgang Rahmen: Carbonfaser, Komponenten: Kohlefaser Rennrad 80-120 psi (5,5-8,3 bar) 1500\n",
      "Daten erfolgreich eingefügt: 4 16 26 3-Gang Rahmen: Aluminium, Komponenten: Stahl Trekkingrad 60-80 psi (4,1-5,5 bar) 1000\n",
      "Daten erfolgreich eingefügt: 5 12.7 28 18-Gang Rahmen: Aluminium, Komponenten: Titan Rennrad 90-120 psi (6,2-8,3 bar) 2000\n",
      "Daten erfolgreich eingefügt: 6 10.3 27.5 10-Gang Rahmen: Aluminium, Komponenten: Kohlefaser Mountainbike 35-55 psi (2,4-3,8 bar) 1200\n",
      "Daten erfolgreich eingefügt: 7 14.8 26 5-Gang Rahmen: Stahl, Komponenten: Aluminiumlegierung Citybike 50-70 psi (3,5-4,8 bar) 800\n",
      "Daten erfolgreich eingefügt: 8 9.1 29 Einzelgang Rahmen: Carbonfaser, Komponenten: Carbonfaser Rennrad 80-120 psi (5,5-8,3 bar) 1500\n",
      "Daten erfolgreich eingefügt: 9 13.5 26 7-Gang Rahmen: Aluminium, Komponenten: Stahl Trekkingrad 60-80 psi (4,1-5,5 bar) 1000\n",
      "Daten erfolgreich eingefügt: 10 12.7 28 18-Gang Rahmen: Aluminium, Komponenten: Titan Rennrad 90-120 psi (6,2-8,3 bar) 2000\n",
      "Daten erfolgreich eingefügt: 11 9.6 29 21-Gang Rahmen: Titan, Komponenten: Aluminiumlegierung E-Bike 35-50 psi (2,4-3,5 bar) 2500\n",
      "Daten erfolgreich eingefügt: 12 15.2 27.5 7-Gang Rahmen: Stahl, Komponenten: Stahl Citybike 45-65 psi (3,1-4,5 bar) 700\n",
      "Daten erfolgreich eingefügt: 13 10.9 26 3-Gang Rahmen: Aluminium, Komponenten: Aluminiumlegierung Trekkingrad 60-80 psi (4,1-5,5 bar) 900\n",
      "Daten erfolgreich eingefügt: 14 11.8 28 Einzelgang Rahmen: Carbonfaser, Komponenten: Carbonfaser Rennrad 90-120 psi (6,2-8,3 bar) 1800\n",
      "Daten erfolgreich eingefügt: 15 13.4 29 21-Gang Rahmen: Aluminium, Komponenten: Titan E-Bike 35-50 psi (2,4-3,5 bar) 2800\n",
      "Daten erfolgreich eingefügt: 16 12.1 27.5 10-Gang Rahmen: Titan, Komponenten: Kohlefaser Mountainbike 35-55 psi (2,4-3,8 bar) 1300\n",
      "Daten erfolgreich eingefügt: 17 14.6 26 7-Gang Rahmen: Stahl, Komponenten: Stahl Citybike 50-70 psi (3,5-4,8 bar) 750\n",
      "Daten erfolgreich eingefügt: 18 10.2 29 Einzelgang Rahmen: Aluminium, Komponenten: Carbonfaser Rennrad 80-120 psi (5,5-8,3 bar) 1600\n",
      "Daten erfolgreich eingefügt: 19 13.8 26 5-Gang Rahmen: Stahl, Komponenten: Aluminiumlegierung Trekkingrad 60-80 psi (4,1-5,5 bar) 1100\n",
      "Daten erfolgreich eingefügt: 20 11.5 28 18-Gang Rahmen: Aluminium, Komponenten: Titan Rennrad 90-120 psi (6,2-8,3 bar) 2200\n"
     ]
    }
   ],
   "source": [
    "for row in data_to_insert:\n",
    "    insert_data(*row)"
   ]
  },
  {
   "cell_type": "code",
   "execution_count": 15,
   "metadata": {},
   "outputs": [],
   "source": [
    "# Der id soll eindeutig sein sowie wir es bei der Erstellung der Tabelle definiert "
   ]
  },
  {
   "cell_type": "markdown",
   "metadata": {},
   "source": [
    "## Aufgabe 4: Fetch (Abruf) der Daten aus der Tabelle"
   ]
  },
  {
   "cell_type": "code",
   "execution_count": 16,
   "metadata": {
    "tags": []
   },
   "outputs": [
    {
     "data": {
      "text/plain": [
       "<sqlite3.Cursor at 0x1a9496ed540>"
      ]
     },
     "execution_count": 16,
     "metadata": {},
     "output_type": "execute_result"
    }
   ],
   "source": [
    "# Alle Daten der Tabelle `fahrrad` anzeigen\n",
    "select_query = '''SELECT * FROM fahrrad'''\n",
    "cursor_obj.execute(select_query)\n",
    "# Jetzt das cursor_obj  enthält Daten der Tabelle fahrrad sei es Spaltennamen oder Values aber in eine unordentliche Struktur."
   ]
  },
  {
   "cell_type": "markdown",
   "metadata": {},
   "source": [
    "### Values in Form einer Liste von tuples abrufen"
   ]
  },
  {
   "cell_type": "code",
   "execution_count": 17,
   "metadata": {},
   "outputs": [],
   "source": [
    "# Dafür brauchen wir fetch methoden wie z.b. fetchall() um diese Daten in Form einer Liste von tuples zuzuordnen\n",
    "values_all = cursor_obj.fetchall()"
   ]
  },
  {
   "cell_type": "code",
   "execution_count": 18,
   "metadata": {},
   "outputs": [
    {
     "data": {
      "text/plain": [
       "list"
      ]
     },
     "execution_count": 18,
     "metadata": {},
     "output_type": "execute_result"
    }
   ],
   "source": [
    "type(values_all)"
   ]
  },
  {
   "cell_type": "code",
   "execution_count": 19,
   "metadata": {},
   "outputs": [
    {
     "data": {
      "text/plain": [
       "[(2,\n",
       "  12.5,\n",
       "  27.5,\n",
       "  '7-Gang',\n",
       "  'Rahmen: Stahl, Komponenten: Stahl',\n",
       "  'Citybike',\n",
       "  '50-70 psi (3,5-4,8 bar)',\n",
       "  800),\n",
       " (3,\n",
       "  9.8,\n",
       "  26,\n",
       "  'Einzelgang',\n",
       "  'Rahmen: Carbonfaser, Komponenten: Kohlefaser',\n",
       "  'Rennrad',\n",
       "  '80-120 psi (5,5-8,3 bar)',\n",
       "  1500)]"
      ]
     },
     "execution_count": 19,
     "metadata": {},
     "output_type": "execute_result"
    }
   ],
   "source": [
    "# Zwei Elemente der Liste output_all anzeigen\n",
    "values_all[0:2]"
   ]
  },
  {
   "cell_type": "code",
   "execution_count": 20,
   "metadata": {},
   "outputs": [
    {
     "name": "stdout",
     "output_type": "stream",
     "text": [
      "(2, 12.5, 27.5, '7-Gang', 'Rahmen: Stahl, Komponenten: Stahl', 'Citybike', '50-70 psi (3,5-4,8 bar)', 800)\n",
      "(3, 9.8, 26, 'Einzelgang', 'Rahmen: Carbonfaser, Komponenten: Kohlefaser', 'Rennrad', '80-120 psi (5,5-8,3 bar)', 1500)\n",
      "(4, 16, 26, '3-Gang', 'Rahmen: Aluminium, Komponenten: Stahl', 'Trekkingrad', '60-80 psi (4,1-5,5 bar)', 1000)\n",
      "(5, 12.7, 28, '18-Gang', 'Rahmen: Aluminium, Komponenten: Titan', 'Rennrad', '90-120 psi (6,2-8,3 bar)', 2000)\n",
      "(6, 10.3, 27.5, '10-Gang', 'Rahmen: Aluminium, Komponenten: Kohlefaser', 'Mountainbike', '35-55 psi (2,4-3,8 bar)', 1200)\n",
      "(7, 14.8, 26, '5-Gang', 'Rahmen: Stahl, Komponenten: Aluminiumlegierung', 'Citybike', '50-70 psi (3,5-4,8 bar)', 800)\n",
      "(8, 9.1, 29, 'Einzelgang', 'Rahmen: Carbonfaser, Komponenten: Carbonfaser', 'Rennrad', '80-120 psi (5,5-8,3 bar)', 1500)\n",
      "(9, 13.5, 26, '7-Gang', 'Rahmen: Aluminium, Komponenten: Stahl', 'Trekkingrad', '60-80 psi (4,1-5,5 bar)', 1000)\n",
      "(10, 12.7, 28, '18-Gang', 'Rahmen: Aluminium, Komponenten: Titan', 'Rennrad', '90-120 psi (6,2-8,3 bar)', 2000)\n",
      "(11, 9.6, 29, '21-Gang', 'Rahmen: Titan, Komponenten: Aluminiumlegierung', 'E-Bike', '35-50 psi (2,4-3,5 bar)', 2500)\n",
      "(12, 15.2, 27.5, '7-Gang', 'Rahmen: Stahl, Komponenten: Stahl', 'Citybike', '45-65 psi (3,1-4,5 bar)', 700)\n",
      "(13, 10.9, 26, '3-Gang', 'Rahmen: Aluminium, Komponenten: Aluminiumlegierung', 'Trekkingrad', '60-80 psi (4,1-5,5 bar)', 900)\n",
      "(14, 11.8, 28, 'Einzelgang', 'Rahmen: Carbonfaser, Komponenten: Carbonfaser', 'Rennrad', '90-120 psi (6,2-8,3 bar)', 1800)\n",
      "(15, 13.4, 29, '21-Gang', 'Rahmen: Aluminium, Komponenten: Titan', 'E-Bike', '35-50 psi (2,4-3,5 bar)', 2800)\n",
      "(16, 12.1, 27.5, '10-Gang', 'Rahmen: Titan, Komponenten: Kohlefaser', 'Mountainbike', '35-55 psi (2,4-3,8 bar)', 1300)\n",
      "(17, 14.6, 26, '7-Gang', 'Rahmen: Stahl, Komponenten: Stahl', 'Citybike', '50-70 psi (3,5-4,8 bar)', 750)\n",
      "(18, 10.2, 29, 'Einzelgang', 'Rahmen: Aluminium, Komponenten: Carbonfaser', 'Rennrad', '80-120 psi (5,5-8,3 bar)', 1600)\n",
      "(19, 13.8, 26, '5-Gang', 'Rahmen: Stahl, Komponenten: Aluminiumlegierung', 'Trekkingrad', '60-80 psi (4,1-5,5 bar)', 1100)\n",
      "(20, 11.5, 28, '18-Gang', 'Rahmen: Aluminium, Komponenten: Titan', 'Rennrad', '90-120 psi (6,2-8,3 bar)', 2200)\n",
      "(21, 8, 29, '21-Gang', 'Rahmen: Aluminium, Komponenten: Aluminiumlegierung', 'Mountainbike', '30-50 psi (2-3,5 bar)', 1200)\n"
     ]
    }
   ],
   "source": [
    "# Nun können wir ganz ruhig unsere Daten anzeigen anhand einer Schleife\n",
    "for tuple in values_all:\n",
    "    print(tuple)"
   ]
  },
  {
   "cell_type": "code",
   "execution_count": 21,
   "metadata": {},
   "outputs": [
    {
     "name": "stdout",
     "output_type": "stream",
     "text": [
      "['ID', 'Gewicht_kg', 'Radgröße_Zoll', 'Gänge', 'Materialien', 'Fahrradtypen', 'Reifendruck_psi_bar', 'Price_EUR']\n",
      "(2, 12.5, 27.5, '7-Gang', 'Rahmen: Stahl, Komponenten: Stahl', 'Citybike', '50-70 psi (3,5-4,8 bar)', 800)\n",
      "(3, 9.8, 26, 'Einzelgang', 'Rahmen: Carbonfaser, Komponenten: Kohlefaser', 'Rennrad', '80-120 psi (5,5-8,3 bar)', 1500)\n",
      "(4, 16, 26, '3-Gang', 'Rahmen: Aluminium, Komponenten: Stahl', 'Trekkingrad', '60-80 psi (4,1-5,5 bar)', 1000)\n",
      "(5, 12.7, 28, '18-Gang', 'Rahmen: Aluminium, Komponenten: Titan', 'Rennrad', '90-120 psi (6,2-8,3 bar)', 2000)\n",
      "(6, 10.3, 27.5, '10-Gang', 'Rahmen: Aluminium, Komponenten: Kohlefaser', 'Mountainbike', '35-55 psi (2,4-3,8 bar)', 1200)\n",
      "(7, 14.8, 26, '5-Gang', 'Rahmen: Stahl, Komponenten: Aluminiumlegierung', 'Citybike', '50-70 psi (3,5-4,8 bar)', 800)\n",
      "(8, 9.1, 29, 'Einzelgang', 'Rahmen: Carbonfaser, Komponenten: Carbonfaser', 'Rennrad', '80-120 psi (5,5-8,3 bar)', 1500)\n",
      "(9, 13.5, 26, '7-Gang', 'Rahmen: Aluminium, Komponenten: Stahl', 'Trekkingrad', '60-80 psi (4,1-5,5 bar)', 1000)\n",
      "(10, 12.7, 28, '18-Gang', 'Rahmen: Aluminium, Komponenten: Titan', 'Rennrad', '90-120 psi (6,2-8,3 bar)', 2000)\n",
      "(11, 9.6, 29, '21-Gang', 'Rahmen: Titan, Komponenten: Aluminiumlegierung', 'E-Bike', '35-50 psi (2,4-3,5 bar)', 2500)\n",
      "(12, 15.2, 27.5, '7-Gang', 'Rahmen: Stahl, Komponenten: Stahl', 'Citybike', '45-65 psi (3,1-4,5 bar)', 700)\n",
      "(13, 10.9, 26, '3-Gang', 'Rahmen: Aluminium, Komponenten: Aluminiumlegierung', 'Trekkingrad', '60-80 psi (4,1-5,5 bar)', 900)\n",
      "(14, 11.8, 28, 'Einzelgang', 'Rahmen: Carbonfaser, Komponenten: Carbonfaser', 'Rennrad', '90-120 psi (6,2-8,3 bar)', 1800)\n",
      "(15, 13.4, 29, '21-Gang', 'Rahmen: Aluminium, Komponenten: Titan', 'E-Bike', '35-50 psi (2,4-3,5 bar)', 2800)\n",
      "(16, 12.1, 27.5, '10-Gang', 'Rahmen: Titan, Komponenten: Kohlefaser', 'Mountainbike', '35-55 psi (2,4-3,8 bar)', 1300)\n",
      "(17, 14.6, 26, '7-Gang', 'Rahmen: Stahl, Komponenten: Stahl', 'Citybike', '50-70 psi (3,5-4,8 bar)', 750)\n",
      "(18, 10.2, 29, 'Einzelgang', 'Rahmen: Aluminium, Komponenten: Carbonfaser', 'Rennrad', '80-120 psi (5,5-8,3 bar)', 1600)\n",
      "(19, 13.8, 26, '5-Gang', 'Rahmen: Stahl, Komponenten: Aluminiumlegierung', 'Trekkingrad', '60-80 psi (4,1-5,5 bar)', 1100)\n",
      "(20, 11.5, 28, '18-Gang', 'Rahmen: Aluminium, Komponenten: Titan', 'Rennrad', '90-120 psi (6,2-8,3 bar)', 2200)\n",
      "(21, 8, 29, '21-Gang', 'Rahmen: Aluminium, Komponenten: Aluminiumlegierung', 'Mountainbike', '30-50 psi (2-3,5 bar)', 1200)\n"
     ]
    }
   ],
   "source": [
    "# Values mit Spaltennamen anzeigen \n",
    "# Spaltennamen abrufen\n",
    "column_names = [description[0] for description in cursor_obj.description]\n",
    "print(column_names)\n",
    "for tuple in values_all:\n",
    "    print(tuple)"
   ]
  },
  {
   "cell_type": "markdown",
   "metadata": {},
   "source": [
    "## Aufgabe 5: Daten als ein Dataframe abrufen"
   ]
  },
  {
   "cell_type": "code",
   "execution_count": 22,
   "metadata": {},
   "outputs": [
    {
     "data": {
      "text/html": [
       "<div>\n",
       "<style scoped>\n",
       "    .dataframe tbody tr th:only-of-type {\n",
       "        vertical-align: middle;\n",
       "    }\n",
       "\n",
       "    .dataframe tbody tr th {\n",
       "        vertical-align: top;\n",
       "    }\n",
       "\n",
       "    .dataframe thead th {\n",
       "        text-align: right;\n",
       "    }\n",
       "</style>\n",
       "<table border=\"1\" class=\"dataframe\">\n",
       "  <thead>\n",
       "    <tr style=\"text-align: right;\">\n",
       "      <th></th>\n",
       "      <th>ID</th>\n",
       "      <th>Gewicht_kg</th>\n",
       "      <th>Radgröße_Zoll</th>\n",
       "      <th>Gänge</th>\n",
       "      <th>Materialien</th>\n",
       "      <th>Fahrradtypen</th>\n",
       "      <th>Reifendruck_psi_bar</th>\n",
       "      <th>Price_EUR</th>\n",
       "    </tr>\n",
       "  </thead>\n",
       "  <tbody>\n",
       "    <tr>\n",
       "      <th>0</th>\n",
       "      <td>2</td>\n",
       "      <td>12.5</td>\n",
       "      <td>27.5</td>\n",
       "      <td>7-Gang</td>\n",
       "      <td>Rahmen: Stahl, Komponenten: Stahl</td>\n",
       "      <td>Citybike</td>\n",
       "      <td>50-70 psi (3,5-4,8 bar)</td>\n",
       "      <td>800</td>\n",
       "    </tr>\n",
       "    <tr>\n",
       "      <th>1</th>\n",
       "      <td>3</td>\n",
       "      <td>9.8</td>\n",
       "      <td>26.0</td>\n",
       "      <td>Einzelgang</td>\n",
       "      <td>Rahmen: Carbonfaser, Komponenten: Kohlefaser</td>\n",
       "      <td>Rennrad</td>\n",
       "      <td>80-120 psi (5,5-8,3 bar)</td>\n",
       "      <td>1500</td>\n",
       "    </tr>\n",
       "    <tr>\n",
       "      <th>2</th>\n",
       "      <td>4</td>\n",
       "      <td>16.0</td>\n",
       "      <td>26.0</td>\n",
       "      <td>3-Gang</td>\n",
       "      <td>Rahmen: Aluminium, Komponenten: Stahl</td>\n",
       "      <td>Trekkingrad</td>\n",
       "      <td>60-80 psi (4,1-5,5 bar)</td>\n",
       "      <td>1000</td>\n",
       "    </tr>\n",
       "    <tr>\n",
       "      <th>3</th>\n",
       "      <td>5</td>\n",
       "      <td>12.7</td>\n",
       "      <td>28.0</td>\n",
       "      <td>18-Gang</td>\n",
       "      <td>Rahmen: Aluminium, Komponenten: Titan</td>\n",
       "      <td>Rennrad</td>\n",
       "      <td>90-120 psi (6,2-8,3 bar)</td>\n",
       "      <td>2000</td>\n",
       "    </tr>\n",
       "    <tr>\n",
       "      <th>4</th>\n",
       "      <td>6</td>\n",
       "      <td>10.3</td>\n",
       "      <td>27.5</td>\n",
       "      <td>10-Gang</td>\n",
       "      <td>Rahmen: Aluminium, Komponenten: Kohlefaser</td>\n",
       "      <td>Mountainbike</td>\n",
       "      <td>35-55 psi (2,4-3,8 bar)</td>\n",
       "      <td>1200</td>\n",
       "    </tr>\n",
       "    <tr>\n",
       "      <th>5</th>\n",
       "      <td>7</td>\n",
       "      <td>14.8</td>\n",
       "      <td>26.0</td>\n",
       "      <td>5-Gang</td>\n",
       "      <td>Rahmen: Stahl, Komponenten: Aluminiumlegierung</td>\n",
       "      <td>Citybike</td>\n",
       "      <td>50-70 psi (3,5-4,8 bar)</td>\n",
       "      <td>800</td>\n",
       "    </tr>\n",
       "    <tr>\n",
       "      <th>6</th>\n",
       "      <td>8</td>\n",
       "      <td>9.1</td>\n",
       "      <td>29.0</td>\n",
       "      <td>Einzelgang</td>\n",
       "      <td>Rahmen: Carbonfaser, Komponenten: Carbonfaser</td>\n",
       "      <td>Rennrad</td>\n",
       "      <td>80-120 psi (5,5-8,3 bar)</td>\n",
       "      <td>1500</td>\n",
       "    </tr>\n",
       "    <tr>\n",
       "      <th>7</th>\n",
       "      <td>9</td>\n",
       "      <td>13.5</td>\n",
       "      <td>26.0</td>\n",
       "      <td>7-Gang</td>\n",
       "      <td>Rahmen: Aluminium, Komponenten: Stahl</td>\n",
       "      <td>Trekkingrad</td>\n",
       "      <td>60-80 psi (4,1-5,5 bar)</td>\n",
       "      <td>1000</td>\n",
       "    </tr>\n",
       "    <tr>\n",
       "      <th>8</th>\n",
       "      <td>10</td>\n",
       "      <td>12.7</td>\n",
       "      <td>28.0</td>\n",
       "      <td>18-Gang</td>\n",
       "      <td>Rahmen: Aluminium, Komponenten: Titan</td>\n",
       "      <td>Rennrad</td>\n",
       "      <td>90-120 psi (6,2-8,3 bar)</td>\n",
       "      <td>2000</td>\n",
       "    </tr>\n",
       "    <tr>\n",
       "      <th>9</th>\n",
       "      <td>11</td>\n",
       "      <td>9.6</td>\n",
       "      <td>29.0</td>\n",
       "      <td>21-Gang</td>\n",
       "      <td>Rahmen: Titan, Komponenten: Aluminiumlegierung</td>\n",
       "      <td>E-Bike</td>\n",
       "      <td>35-50 psi (2,4-3,5 bar)</td>\n",
       "      <td>2500</td>\n",
       "    </tr>\n",
       "    <tr>\n",
       "      <th>10</th>\n",
       "      <td>12</td>\n",
       "      <td>15.2</td>\n",
       "      <td>27.5</td>\n",
       "      <td>7-Gang</td>\n",
       "      <td>Rahmen: Stahl, Komponenten: Stahl</td>\n",
       "      <td>Citybike</td>\n",
       "      <td>45-65 psi (3,1-4,5 bar)</td>\n",
       "      <td>700</td>\n",
       "    </tr>\n",
       "    <tr>\n",
       "      <th>11</th>\n",
       "      <td>13</td>\n",
       "      <td>10.9</td>\n",
       "      <td>26.0</td>\n",
       "      <td>3-Gang</td>\n",
       "      <td>Rahmen: Aluminium, Komponenten: Aluminiumlegie...</td>\n",
       "      <td>Trekkingrad</td>\n",
       "      <td>60-80 psi (4,1-5,5 bar)</td>\n",
       "      <td>900</td>\n",
       "    </tr>\n",
       "    <tr>\n",
       "      <th>12</th>\n",
       "      <td>14</td>\n",
       "      <td>11.8</td>\n",
       "      <td>28.0</td>\n",
       "      <td>Einzelgang</td>\n",
       "      <td>Rahmen: Carbonfaser, Komponenten: Carbonfaser</td>\n",
       "      <td>Rennrad</td>\n",
       "      <td>90-120 psi (6,2-8,3 bar)</td>\n",
       "      <td>1800</td>\n",
       "    </tr>\n",
       "    <tr>\n",
       "      <th>13</th>\n",
       "      <td>15</td>\n",
       "      <td>13.4</td>\n",
       "      <td>29.0</td>\n",
       "      <td>21-Gang</td>\n",
       "      <td>Rahmen: Aluminium, Komponenten: Titan</td>\n",
       "      <td>E-Bike</td>\n",
       "      <td>35-50 psi (2,4-3,5 bar)</td>\n",
       "      <td>2800</td>\n",
       "    </tr>\n",
       "    <tr>\n",
       "      <th>14</th>\n",
       "      <td>16</td>\n",
       "      <td>12.1</td>\n",
       "      <td>27.5</td>\n",
       "      <td>10-Gang</td>\n",
       "      <td>Rahmen: Titan, Komponenten: Kohlefaser</td>\n",
       "      <td>Mountainbike</td>\n",
       "      <td>35-55 psi (2,4-3,8 bar)</td>\n",
       "      <td>1300</td>\n",
       "    </tr>\n",
       "    <tr>\n",
       "      <th>15</th>\n",
       "      <td>17</td>\n",
       "      <td>14.6</td>\n",
       "      <td>26.0</td>\n",
       "      <td>7-Gang</td>\n",
       "      <td>Rahmen: Stahl, Komponenten: Stahl</td>\n",
       "      <td>Citybike</td>\n",
       "      <td>50-70 psi (3,5-4,8 bar)</td>\n",
       "      <td>750</td>\n",
       "    </tr>\n",
       "    <tr>\n",
       "      <th>16</th>\n",
       "      <td>18</td>\n",
       "      <td>10.2</td>\n",
       "      <td>29.0</td>\n",
       "      <td>Einzelgang</td>\n",
       "      <td>Rahmen: Aluminium, Komponenten: Carbonfaser</td>\n",
       "      <td>Rennrad</td>\n",
       "      <td>80-120 psi (5,5-8,3 bar)</td>\n",
       "      <td>1600</td>\n",
       "    </tr>\n",
       "    <tr>\n",
       "      <th>17</th>\n",
       "      <td>19</td>\n",
       "      <td>13.8</td>\n",
       "      <td>26.0</td>\n",
       "      <td>5-Gang</td>\n",
       "      <td>Rahmen: Stahl, Komponenten: Aluminiumlegierung</td>\n",
       "      <td>Trekkingrad</td>\n",
       "      <td>60-80 psi (4,1-5,5 bar)</td>\n",
       "      <td>1100</td>\n",
       "    </tr>\n",
       "    <tr>\n",
       "      <th>18</th>\n",
       "      <td>20</td>\n",
       "      <td>11.5</td>\n",
       "      <td>28.0</td>\n",
       "      <td>18-Gang</td>\n",
       "      <td>Rahmen: Aluminium, Komponenten: Titan</td>\n",
       "      <td>Rennrad</td>\n",
       "      <td>90-120 psi (6,2-8,3 bar)</td>\n",
       "      <td>2200</td>\n",
       "    </tr>\n",
       "    <tr>\n",
       "      <th>19</th>\n",
       "      <td>21</td>\n",
       "      <td>8.0</td>\n",
       "      <td>29.0</td>\n",
       "      <td>21-Gang</td>\n",
       "      <td>Rahmen: Aluminium, Komponenten: Aluminiumlegie...</td>\n",
       "      <td>Mountainbike</td>\n",
       "      <td>30-50 psi (2-3,5 bar)</td>\n",
       "      <td>1200</td>\n",
       "    </tr>\n",
       "  </tbody>\n",
       "</table>\n",
       "</div>"
      ],
      "text/plain": [
       "    ID  Gewicht_kg  Radgröße_Zoll       Gänge  \\\n",
       "0    2        12.5           27.5      7-Gang   \n",
       "1    3         9.8           26.0  Einzelgang   \n",
       "2    4        16.0           26.0      3-Gang   \n",
       "3    5        12.7           28.0     18-Gang   \n",
       "4    6        10.3           27.5     10-Gang   \n",
       "5    7        14.8           26.0      5-Gang   \n",
       "6    8         9.1           29.0  Einzelgang   \n",
       "7    9        13.5           26.0      7-Gang   \n",
       "8   10        12.7           28.0     18-Gang   \n",
       "9   11         9.6           29.0     21-Gang   \n",
       "10  12        15.2           27.5      7-Gang   \n",
       "11  13        10.9           26.0      3-Gang   \n",
       "12  14        11.8           28.0  Einzelgang   \n",
       "13  15        13.4           29.0     21-Gang   \n",
       "14  16        12.1           27.5     10-Gang   \n",
       "15  17        14.6           26.0      7-Gang   \n",
       "16  18        10.2           29.0  Einzelgang   \n",
       "17  19        13.8           26.0      5-Gang   \n",
       "18  20        11.5           28.0     18-Gang   \n",
       "19  21         8.0           29.0     21-Gang   \n",
       "\n",
       "                                          Materialien  Fahrradtypen  \\\n",
       "0                   Rahmen: Stahl, Komponenten: Stahl      Citybike   \n",
       "1        Rahmen: Carbonfaser, Komponenten: Kohlefaser       Rennrad   \n",
       "2               Rahmen: Aluminium, Komponenten: Stahl   Trekkingrad   \n",
       "3               Rahmen: Aluminium, Komponenten: Titan       Rennrad   \n",
       "4          Rahmen: Aluminium, Komponenten: Kohlefaser  Mountainbike   \n",
       "5      Rahmen: Stahl, Komponenten: Aluminiumlegierung      Citybike   \n",
       "6       Rahmen: Carbonfaser, Komponenten: Carbonfaser       Rennrad   \n",
       "7               Rahmen: Aluminium, Komponenten: Stahl   Trekkingrad   \n",
       "8               Rahmen: Aluminium, Komponenten: Titan       Rennrad   \n",
       "9      Rahmen: Titan, Komponenten: Aluminiumlegierung        E-Bike   \n",
       "10                  Rahmen: Stahl, Komponenten: Stahl      Citybike   \n",
       "11  Rahmen: Aluminium, Komponenten: Aluminiumlegie...   Trekkingrad   \n",
       "12      Rahmen: Carbonfaser, Komponenten: Carbonfaser       Rennrad   \n",
       "13              Rahmen: Aluminium, Komponenten: Titan        E-Bike   \n",
       "14             Rahmen: Titan, Komponenten: Kohlefaser  Mountainbike   \n",
       "15                  Rahmen: Stahl, Komponenten: Stahl      Citybike   \n",
       "16        Rahmen: Aluminium, Komponenten: Carbonfaser       Rennrad   \n",
       "17     Rahmen: Stahl, Komponenten: Aluminiumlegierung   Trekkingrad   \n",
       "18              Rahmen: Aluminium, Komponenten: Titan       Rennrad   \n",
       "19  Rahmen: Aluminium, Komponenten: Aluminiumlegie...  Mountainbike   \n",
       "\n",
       "         Reifendruck_psi_bar  Price_EUR  \n",
       "0    50-70 psi (3,5-4,8 bar)        800  \n",
       "1   80-120 psi (5,5-8,3 bar)       1500  \n",
       "2    60-80 psi (4,1-5,5 bar)       1000  \n",
       "3   90-120 psi (6,2-8,3 bar)       2000  \n",
       "4    35-55 psi (2,4-3,8 bar)       1200  \n",
       "5    50-70 psi (3,5-4,8 bar)        800  \n",
       "6   80-120 psi (5,5-8,3 bar)       1500  \n",
       "7    60-80 psi (4,1-5,5 bar)       1000  \n",
       "8   90-120 psi (6,2-8,3 bar)       2000  \n",
       "9    35-50 psi (2,4-3,5 bar)       2500  \n",
       "10   45-65 psi (3,1-4,5 bar)        700  \n",
       "11   60-80 psi (4,1-5,5 bar)        900  \n",
       "12  90-120 psi (6,2-8,3 bar)       1800  \n",
       "13   35-50 psi (2,4-3,5 bar)       2800  \n",
       "14   35-55 psi (2,4-3,8 bar)       1300  \n",
       "15   50-70 psi (3,5-4,8 bar)        750  \n",
       "16  80-120 psi (5,5-8,3 bar)       1600  \n",
       "17   60-80 psi (4,1-5,5 bar)       1100  \n",
       "18  90-120 psi (6,2-8,3 bar)       2200  \n",
       "19     30-50 psi (2-3,5 bar)       1200  "
      ]
     },
     "execution_count": 22,
     "metadata": {},
     "output_type": "execute_result"
    }
   ],
   "source": [
    "# Diese Tabelle können wir auch als Dataframe anhand der methode read_sql abrufen\n",
    "import pandas as pd\n",
    "all_data = '''select * from fahrrad'''\n",
    "cursor_obj.execute(all_data)\n",
    "df= pd.read_sql(all_data, con=conn)\n",
    "df"
   ]
  },
  {
   "cell_type": "markdown",
   "metadata": {},
   "source": [
    "## Tabelle bearbeiten"
   ]
  },
  {
   "cell_type": "markdown",
   "metadata": {},
   "source": [
    "Dafür haben eine Lise von Auswahl  unter anderem  sql-Anweisungen und pandas.\n",
    "Persönlich empfehle ich pandas am ehesten da ihr Syntax ganz easy ist und man can alles schaffen was sql kann in weniger Zeilen.\n",
    "\n",
    "In diesem Skript werde ich trotzdem sql-Anweisungen verwenden um zu üben wie man sql-anweisungen mit python verwenden"
   ]
  },
  {
   "cell_type": "markdown",
   "metadata": {},
   "source": [
    "### 1.  Fetch Data"
   ]
  },
  {
   "cell_type": "markdown",
   "metadata": {},
   "source": [
    " Es gibt verschiede methode von fetch data unter anderem\n",
    "- fetchall() ruft alle Daten ab\n",
    "- fetchmany(n) ruft n ersten Elemente ab\n",
    "- usw..."
   ]
  },
  {
   "cell_type": "code",
   "execution_count": 23,
   "metadata": {
    "tags": []
   },
   "outputs": [
    {
     "name": "stdout",
     "output_type": "stream",
     "text": [
      "('Citybike',)\n",
      "('Rennrad',)\n",
      "('Trekkingrad',)\n",
      "('Rennrad',)\n",
      "('Mountainbike',)\n",
      "('Citybike',)\n",
      "('Rennrad',)\n",
      "('Trekkingrad',)\n",
      "('Rennrad',)\n",
      "('E-Bike',)\n",
      "('Citybike',)\n",
      "('Trekkingrad',)\n",
      "('Rennrad',)\n",
      "('E-Bike',)\n",
      "('Mountainbike',)\n",
      "('Citybike',)\n",
      "('Rennrad',)\n",
      "('Trekkingrad',)\n",
      "('Rennrad',)\n",
      "('Mountainbike',)\n"
     ]
    }
   ],
   "source": [
    "# Fetch nur Fahrradtypen aus der Tabelle\n",
    "fetch_query = '''SELECT Fahrradtypen FROM fahrrad'''\n",
    "cursor_obj.execute(fetch_query)\n",
    "\n",
    "bicycle_type = cursor_obj.fetchall()\n",
    "for tuple in bicycle_type:\n",
    "  print(tuple)"
   ]
  },
  {
   "cell_type": "code",
   "execution_count": 24,
   "metadata": {},
   "outputs": [
    {
     "name": "stdout",
     "output_type": "stream",
     "text": [
      "('Citybike',)\n",
      "('Rennrad',)\n",
      "('Trekkingrad',)\n",
      "('Rennrad',)\n",
      "('Mountainbike',)\n"
     ]
    }
   ],
   "source": [
    "# Nur erste fünf Element aus der Spalte Fahrradtypen zeigen\n",
    "fetch_query = '''SELECT Fahrradtypen FROM fahrrad limit 5'''\n",
    "cursor_obj.execute(fetch_query)\n",
    "\n",
    "bicycle_type_top_5 = cursor_obj.fetchall()\n",
    "for tuple in bicycle_type_top_5:\n",
    "    print(tuple)"
   ]
  },
  {
   "cell_type": "code",
   "execution_count": 25,
   "metadata": {},
   "outputs": [],
   "source": [
    " # wir können den aktuellen Zustand der Tabelle nur in einer Zeile anzeigen anhand eine Funktion\n",
    "\n",
    "def show_table():\n",
    "    fetch_query = '''SELECT * FROM fahrrad'''\n",
    "    cursor_obj.execute(fetch_query)\n",
    "\n",
    "    # Spaltennamen abrufen\n",
    "    column_names = [description[0] for description in cursor_obj.description]\n",
    "    print(column_names)\n",
    "    \n",
    "    # Values abrufen\n",
    "    all_data = cursor_obj.fetchall()\n",
    "    for tuple in all_data:\n",
    "        print(tuple)"
   ]
  },
  {
   "cell_type": "code",
   "execution_count": 26,
   "metadata": {},
   "outputs": [
    {
     "name": "stdout",
     "output_type": "stream",
     "text": [
      "['ID', 'Gewicht_kg', 'Radgröße_Zoll', 'Gänge', 'Materialien', 'Fahrradtypen', 'Reifendruck_psi_bar', 'Price_EUR']\n",
      "(2, 12.5, 27.5, '7-Gang', 'Rahmen: Stahl, Komponenten: Stahl', 'Citybike', '50-70 psi (3,5-4,8 bar)', 800)\n",
      "(3, 9.8, 26, 'Einzelgang', 'Rahmen: Carbonfaser, Komponenten: Kohlefaser', 'Rennrad', '80-120 psi (5,5-8,3 bar)', 1500)\n",
      "(4, 16, 26, '3-Gang', 'Rahmen: Aluminium, Komponenten: Stahl', 'Trekkingrad', '60-80 psi (4,1-5,5 bar)', 1000)\n",
      "(5, 12.7, 28, '18-Gang', 'Rahmen: Aluminium, Komponenten: Titan', 'Rennrad', '90-120 psi (6,2-8,3 bar)', 2000)\n",
      "(6, 10.3, 27.5, '10-Gang', 'Rahmen: Aluminium, Komponenten: Kohlefaser', 'Mountainbike', '35-55 psi (2,4-3,8 bar)', 1200)\n",
      "(7, 14.8, 26, '5-Gang', 'Rahmen: Stahl, Komponenten: Aluminiumlegierung', 'Citybike', '50-70 psi (3,5-4,8 bar)', 800)\n",
      "(8, 9.1, 29, 'Einzelgang', 'Rahmen: Carbonfaser, Komponenten: Carbonfaser', 'Rennrad', '80-120 psi (5,5-8,3 bar)', 1500)\n",
      "(9, 13.5, 26, '7-Gang', 'Rahmen: Aluminium, Komponenten: Stahl', 'Trekkingrad', '60-80 psi (4,1-5,5 bar)', 1000)\n",
      "(10, 12.7, 28, '18-Gang', 'Rahmen: Aluminium, Komponenten: Titan', 'Rennrad', '90-120 psi (6,2-8,3 bar)', 2000)\n",
      "(11, 9.6, 29, '21-Gang', 'Rahmen: Titan, Komponenten: Aluminiumlegierung', 'E-Bike', '35-50 psi (2,4-3,5 bar)', 2500)\n",
      "(12, 15.2, 27.5, '7-Gang', 'Rahmen: Stahl, Komponenten: Stahl', 'Citybike', '45-65 psi (3,1-4,5 bar)', 700)\n",
      "(13, 10.9, 26, '3-Gang', 'Rahmen: Aluminium, Komponenten: Aluminiumlegierung', 'Trekkingrad', '60-80 psi (4,1-5,5 bar)', 900)\n",
      "(14, 11.8, 28, 'Einzelgang', 'Rahmen: Carbonfaser, Komponenten: Carbonfaser', 'Rennrad', '90-120 psi (6,2-8,3 bar)', 1800)\n",
      "(15, 13.4, 29, '21-Gang', 'Rahmen: Aluminium, Komponenten: Titan', 'E-Bike', '35-50 psi (2,4-3,5 bar)', 2800)\n",
      "(16, 12.1, 27.5, '10-Gang', 'Rahmen: Titan, Komponenten: Kohlefaser', 'Mountainbike', '35-55 psi (2,4-3,8 bar)', 1300)\n",
      "(17, 14.6, 26, '7-Gang', 'Rahmen: Stahl, Komponenten: Stahl', 'Citybike', '50-70 psi (3,5-4,8 bar)', 750)\n",
      "(18, 10.2, 29, 'Einzelgang', 'Rahmen: Aluminium, Komponenten: Carbonfaser', 'Rennrad', '80-120 psi (5,5-8,3 bar)', 1600)\n",
      "(19, 13.8, 26, '5-Gang', 'Rahmen: Stahl, Komponenten: Aluminiumlegierung', 'Trekkingrad', '60-80 psi (4,1-5,5 bar)', 1100)\n",
      "(20, 11.5, 28, '18-Gang', 'Rahmen: Aluminium, Komponenten: Titan', 'Rennrad', '90-120 psi (6,2-8,3 bar)', 2200)\n",
      "(21, 8, 29, '21-Gang', 'Rahmen: Aluminium, Komponenten: Aluminiumlegierung', 'Mountainbike', '30-50 psi (2-3,5 bar)', 1200)\n"
     ]
    }
   ],
   "source": [
    "# aktuelle Zustand der Tabelle anzeigen\n",
    "show_table()"
   ]
  },
  {
   "cell_type": "code",
   "execution_count": 27,
   "metadata": {},
   "outputs": [],
   "source": [
    "# Wir können auch der Anzahl der ersten angezeigten Zeilen einschränken durch die methode fetchmany()\n",
    "def select_first_n_rows(n):\n",
    "    fetch_query = '''SELECT * FROM fahrrad'''\n",
    "    cursor_obj.execute(fetch_query)\n",
    "\n",
    "    all_data = cursor_obj.fetchmany(n)\n",
    "    for tuple in all_data:\n",
    "        print(tuple)"
   ]
  },
  {
   "cell_type": "code",
   "execution_count": 28,
   "metadata": {},
   "outputs": [
    {
     "name": "stdout",
     "output_type": "stream",
     "text": [
      "(2, 12.5, 27.5, '7-Gang', 'Rahmen: Stahl, Komponenten: Stahl', 'Citybike', '50-70 psi (3,5-4,8 bar)', 800)\n",
      "(3, 9.8, 26, 'Einzelgang', 'Rahmen: Carbonfaser, Komponenten: Kohlefaser', 'Rennrad', '80-120 psi (5,5-8,3 bar)', 1500)\n",
      "(4, 16, 26, '3-Gang', 'Rahmen: Aluminium, Komponenten: Stahl', 'Trekkingrad', '60-80 psi (4,1-5,5 bar)', 1000)\n"
     ]
    }
   ],
   "source": [
    "select_first_n_rows(3)"
   ]
  },
  {
   "cell_type": "code",
   "execution_count": 29,
   "metadata": {},
   "outputs": [
    {
     "name": "stdout",
     "output_type": "stream",
     "text": [
      "(2, 12.5, 27.5, '7-Gang', 'Rahmen: Stahl, Komponenten: Stahl', 'Citybike', '50-70 psi (3,5-4,8 bar)', 800)\n",
      "(3, 9.8, 26, 'Einzelgang', 'Rahmen: Carbonfaser, Komponenten: Kohlefaser', 'Rennrad', '80-120 psi (5,5-8,3 bar)', 1500)\n",
      "(4, 16, 26, '3-Gang', 'Rahmen: Aluminium, Komponenten: Stahl', 'Trekkingrad', '60-80 psi (4,1-5,5 bar)', 1000)\n",
      "(5, 12.7, 28, '18-Gang', 'Rahmen: Aluminium, Komponenten: Titan', 'Rennrad', '90-120 psi (6,2-8,3 bar)', 2000)\n"
     ]
    }
   ],
   "source": [
    "select_first_n_rows(4)"
   ]
  },
  {
   "cell_type": "code",
   "execution_count": 30,
   "metadata": {},
   "outputs": [],
   "source": [
    "def select_random_rows(n):\n",
    "    import random\n",
    "    fetch_query = '''SELECT * FROM fahrrad ORDER BY RANDOM() LIMIT ?'''\n",
    "    cursor_obj.execute(fetch_query, (n,))\n",
    "    \n",
    "    all_data = cursor_obj.fetchall()\n",
    "    for row in all_data:\n",
    "        print(row)"
   ]
  },
  {
   "cell_type": "code",
   "execution_count": 31,
   "metadata": {},
   "outputs": [
    {
     "name": "stdout",
     "output_type": "stream",
     "text": [
      "(13, 10.9, 26, '3-Gang', 'Rahmen: Aluminium, Komponenten: Aluminiumlegierung', 'Trekkingrad', '60-80 psi (4,1-5,5 bar)', 900)\n",
      "(18, 10.2, 29, 'Einzelgang', 'Rahmen: Aluminium, Komponenten: Carbonfaser', 'Rennrad', '80-120 psi (5,5-8,3 bar)', 1600)\n",
      "(6, 10.3, 27.5, '10-Gang', 'Rahmen: Aluminium, Komponenten: Kohlefaser', 'Mountainbike', '35-55 psi (2,4-3,8 bar)', 1200)\n",
      "(4, 16, 26, '3-Gang', 'Rahmen: Aluminium, Komponenten: Stahl', 'Trekkingrad', '60-80 psi (4,1-5,5 bar)', 1000)\n"
     ]
    }
   ],
   "source": [
    "select_random_rows(4)"
   ]
  },
  {
   "cell_type": "markdown",
   "metadata": {},
   "source": [
    "### 2. Update data"
   ]
  },
  {
   "cell_type": "code",
   "execution_count": 32,
   "metadata": {
    "tags": []
   },
   "outputs": [
    {
     "data": {
      "text/plain": [
       "<sqlite3.Cursor at 0x1a9496ed540>"
      ]
     },
     "execution_count": 32,
     "metadata": {},
     "output_type": "execute_result"
    }
   ],
   "source": [
    "# Den Preis des sechsten Fahrrad  von 1200 zu 1250 ändern\n",
    "update_query ='''update fahrrad set Price_EUR=1250 where ID=6'''\n",
    "cursor_obj.execute(update_query)"
   ]
  },
  {
   "cell_type": "code",
   "execution_count": 33,
   "metadata": {
    "tags": []
   },
   "outputs": [
    {
     "name": "stdout",
     "output_type": "stream",
     "text": [
      "['ID', 'Gewicht_kg', 'Radgröße_Zoll', 'Gänge', 'Materialien', 'Fahrradtypen', 'Reifendruck_psi_bar', 'Price_EUR']\n",
      "(2, 12.5, 27.5, '7-Gang', 'Rahmen: Stahl, Komponenten: Stahl', 'Citybike', '50-70 psi (3,5-4,8 bar)', 800)\n",
      "(3, 9.8, 26, 'Einzelgang', 'Rahmen: Carbonfaser, Komponenten: Kohlefaser', 'Rennrad', '80-120 psi (5,5-8,3 bar)', 1500)\n",
      "(4, 16, 26, '3-Gang', 'Rahmen: Aluminium, Komponenten: Stahl', 'Trekkingrad', '60-80 psi (4,1-5,5 bar)', 1000)\n",
      "(5, 12.7, 28, '18-Gang', 'Rahmen: Aluminium, Komponenten: Titan', 'Rennrad', '90-120 psi (6,2-8,3 bar)', 2000)\n",
      "(6, 10.3, 27.5, '10-Gang', 'Rahmen: Aluminium, Komponenten: Kohlefaser', 'Mountainbike', '35-55 psi (2,4-3,8 bar)', 1250)\n",
      "(7, 14.8, 26, '5-Gang', 'Rahmen: Stahl, Komponenten: Aluminiumlegierung', 'Citybike', '50-70 psi (3,5-4,8 bar)', 800)\n",
      "(8, 9.1, 29, 'Einzelgang', 'Rahmen: Carbonfaser, Komponenten: Carbonfaser', 'Rennrad', '80-120 psi (5,5-8,3 bar)', 1500)\n",
      "(9, 13.5, 26, '7-Gang', 'Rahmen: Aluminium, Komponenten: Stahl', 'Trekkingrad', '60-80 psi (4,1-5,5 bar)', 1000)\n",
      "(10, 12.7, 28, '18-Gang', 'Rahmen: Aluminium, Komponenten: Titan', 'Rennrad', '90-120 psi (6,2-8,3 bar)', 2000)\n",
      "(11, 9.6, 29, '21-Gang', 'Rahmen: Titan, Komponenten: Aluminiumlegierung', 'E-Bike', '35-50 psi (2,4-3,5 bar)', 2500)\n",
      "(12, 15.2, 27.5, '7-Gang', 'Rahmen: Stahl, Komponenten: Stahl', 'Citybike', '45-65 psi (3,1-4,5 bar)', 700)\n",
      "(13, 10.9, 26, '3-Gang', 'Rahmen: Aluminium, Komponenten: Aluminiumlegierung', 'Trekkingrad', '60-80 psi (4,1-5,5 bar)', 900)\n",
      "(14, 11.8, 28, 'Einzelgang', 'Rahmen: Carbonfaser, Komponenten: Carbonfaser', 'Rennrad', '90-120 psi (6,2-8,3 bar)', 1800)\n",
      "(15, 13.4, 29, '21-Gang', 'Rahmen: Aluminium, Komponenten: Titan', 'E-Bike', '35-50 psi (2,4-3,5 bar)', 2800)\n",
      "(16, 12.1, 27.5, '10-Gang', 'Rahmen: Titan, Komponenten: Kohlefaser', 'Mountainbike', '35-55 psi (2,4-3,8 bar)', 1300)\n",
      "(17, 14.6, 26, '7-Gang', 'Rahmen: Stahl, Komponenten: Stahl', 'Citybike', '50-70 psi (3,5-4,8 bar)', 750)\n",
      "(18, 10.2, 29, 'Einzelgang', 'Rahmen: Aluminium, Komponenten: Carbonfaser', 'Rennrad', '80-120 psi (5,5-8,3 bar)', 1600)\n",
      "(19, 13.8, 26, '5-Gang', 'Rahmen: Stahl, Komponenten: Aluminiumlegierung', 'Trekkingrad', '60-80 psi (4,1-5,5 bar)', 1100)\n",
      "(20, 11.5, 28, '18-Gang', 'Rahmen: Aluminium, Komponenten: Titan', 'Rennrad', '90-120 psi (6,2-8,3 bar)', 2200)\n",
      "(21, 8, 29, '21-Gang', 'Rahmen: Aluminium, Komponenten: Aluminiumlegierung', 'Mountainbike', '30-50 psi (2-3,5 bar)', 1200)\n"
     ]
    }
   ],
   "source": [
    "# aktuelle Zustand der Tabelle anzeigen\n",
    "show_table()"
   ]
  },
  {
   "cell_type": "code",
   "execution_count": 34,
   "metadata": {},
   "outputs": [],
   "source": [
    "# Der Preis des 6. ten Fahrrad ist schon um 1250 geändert"
   ]
  },
  {
   "cell_type": "markdown",
   "metadata": {},
   "source": [
    "### 3 Delete Data"
   ]
  },
  {
   "cell_type": "code",
   "execution_count": 35,
   "metadata": {},
   "outputs": [
    {
     "data": {
      "text/plain": [
       "<sqlite3.Cursor at 0x1a9496ed540>"
      ]
     },
     "execution_count": 35,
     "metadata": {},
     "output_type": "execute_result"
    }
   ],
   "source": [
    "# Zeilen 5 bis 15 entfernen\n",
    "delete_query = '''delete from fahrrad where ID >=5 and ID <=15 '''\n",
    "cursor_obj.execute(delete_query)"
   ]
  },
  {
   "cell_type": "code",
   "execution_count": 36,
   "metadata": {},
   "outputs": [
    {
     "name": "stdout",
     "output_type": "stream",
     "text": [
      "['ID', 'Gewicht_kg', 'Radgröße_Zoll', 'Gänge', 'Materialien', 'Fahrradtypen', 'Reifendruck_psi_bar', 'Price_EUR']\n",
      "(2, 12.5, 27.5, '7-Gang', 'Rahmen: Stahl, Komponenten: Stahl', 'Citybike', '50-70 psi (3,5-4,8 bar)', 800)\n",
      "(3, 9.8, 26, 'Einzelgang', 'Rahmen: Carbonfaser, Komponenten: Kohlefaser', 'Rennrad', '80-120 psi (5,5-8,3 bar)', 1500)\n",
      "(4, 16, 26, '3-Gang', 'Rahmen: Aluminium, Komponenten: Stahl', 'Trekkingrad', '60-80 psi (4,1-5,5 bar)', 1000)\n",
      "(16, 12.1, 27.5, '10-Gang', 'Rahmen: Titan, Komponenten: Kohlefaser', 'Mountainbike', '35-55 psi (2,4-3,8 bar)', 1300)\n",
      "(17, 14.6, 26, '7-Gang', 'Rahmen: Stahl, Komponenten: Stahl', 'Citybike', '50-70 psi (3,5-4,8 bar)', 750)\n",
      "(18, 10.2, 29, 'Einzelgang', 'Rahmen: Aluminium, Komponenten: Carbonfaser', 'Rennrad', '80-120 psi (5,5-8,3 bar)', 1600)\n",
      "(19, 13.8, 26, '5-Gang', 'Rahmen: Stahl, Komponenten: Aluminiumlegierung', 'Trekkingrad', '60-80 psi (4,1-5,5 bar)', 1100)\n",
      "(20, 11.5, 28, '18-Gang', 'Rahmen: Aluminium, Komponenten: Titan', 'Rennrad', '90-120 psi (6,2-8,3 bar)', 2200)\n",
      "(21, 8, 29, '21-Gang', 'Rahmen: Aluminium, Komponenten: Aluminiumlegierung', 'Mountainbike', '30-50 psi (2-3,5 bar)', 1200)\n"
     ]
    }
   ],
   "source": [
    "# Aktualisierte Tabelle zeigen\n",
    "show_table()"
   ]
  },
  {
   "cell_type": "code",
   "execution_count": 37,
   "metadata": {},
   "outputs": [],
   "source": [
    "# Alle Zeile entleeren\n",
    "truncate_query = '''DELETE FROM fahrrad'''\n",
    "cursor_obj.execute(truncate_query)\n",
    "\n",
    "# Änderungen bestätigen\n",
    "conn.commit()"
   ]
  },
  {
   "cell_type": "code",
   "execution_count": 38,
   "metadata": {},
   "outputs": [
    {
     "data": {
      "text/plain": [
       "<function __main__.show_table()>"
      ]
     },
     "execution_count": 38,
     "metadata": {},
     "output_type": "execute_result"
    }
   ],
   "source": [
    "show_table"
   ]
  },
  {
   "cell_type": "markdown",
   "metadata": {},
   "source": [
    "### 4. Delete Table "
   ]
  },
  {
   "cell_type": "code",
   "execution_count": 39,
   "metadata": {},
   "outputs": [],
   "source": [
    "drop_table_query = '''DROP TABLE IF EXISTS fahrrad'''\n",
    "cursor_obj.execute(drop_table_query)\n",
    "conn.commit()"
   ]
  },
  {
   "cell_type": "code",
   "execution_count": 40,
   "metadata": {},
   "outputs": [
    {
     "data": {
      "text/plain": [
       "[]"
      ]
     },
     "execution_count": 40,
     "metadata": {},
     "output_type": "execute_result"
    }
   ],
   "source": [
    "show_all_tables()"
   ]
  },
  {
   "cell_type": "markdown",
   "metadata": {},
   "source": [
    "## Aufgabe 5: Die Verbindung schließen\n",
    "\n",
    "Wir geben alle Ressourcen frei, indem wir die Verbindung schließen. Denke daran, dass es immer wichtig ist, Verbindungen zu schließen, um zu vermeiden, dass ungenutzte Verbindungen Ressourcen verbrauchen."
   ]
  },
  {
   "cell_type": "code",
   "execution_count": 41,
   "metadata": {},
   "outputs": [],
   "source": [
    "# Close the connection\n",
    "conn.close()"
   ]
  }
 ],
 "metadata": {
  "kernelspec": {
   "display_name": "Python 3 (ipykernel)",
   "language": "python",
   "name": "python3"
  },
  "language_info": {
   "codemirror_mode": {
    "name": "ipython",
    "version": 3
   },
   "file_extension": ".py",
   "mimetype": "text/x-python",
   "name": "python",
   "nbconvert_exporter": "python",
   "pygments_lexer": "ipython3",
   "version": "3.11.7"
  }
 },
 "nbformat": 4,
 "nbformat_minor": 4
}
